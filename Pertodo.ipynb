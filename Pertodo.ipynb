{
  "nbformat": 4,
  "nbformat_minor": 0,
  "metadata": {
    "colab": {
      "provenance": []
    },
    "kernelspec": {
      "name": "python3",
      "display_name": "Python 3"
    },
    "language_info": {
      "name": "python"
    }
  },
  "cells": [
    {
      "cell_type": "code",
      "execution_count": 3,
      "metadata": {
        "colab": {
          "base_uri": "https://localhost:8080/"
        },
        "id": "u_6U1TBgahFb",
        "outputId": "49472655-2836-4588-d34e-06de9a613ae7"
      },
      "outputs": [
        {
          "name": "stdout",
          "output_type": "stream",
          "text": [
            "Enter command (add, complete, delete, view, undo, redo, exit): add Buy groceries, Due: 2023-09-20\n",
            "Enter command (add, complete, delete, view, undo, redo, exit): view all\n",
            "Enter command (add, complete, delete, view, undo, redo, exit): complete buy groceries\n"
          ]
        },
        {
          "output_type": "stream",
          "name": "stderr",
          "text": [
            "WARNING:root:Task 'buy' not found.\n"
          ]
        },
        {
          "name": "stdout",
          "output_type": "stream",
          "text": [
            "Enter command (add, complete, delete, view, undo, redo, exit): complete Buy groceries\n",
            "Enter command (add, complete, delete, view, undo, redo, exit): view completed\n",
            "Enter command (add, complete, delete, view, undo, redo, exit): undo\n",
            "Enter command (add, complete, delete, view, undo, redo, exit): view all\n",
            "Enter command (add, complete, delete, view, undo, redo, exit):  exit\n"
          ]
        }
      ],
      "source": [
        "import logging\n",
        "\n",
        "class Task:\n",
        "    def __init__(self, description, due_date=None):\n",
        "        self.description = description\n",
        "        self.completed = False\n",
        "        self.due_date = due_date\n",
        "\n",
        "    def mark_completed(self):\n",
        "        self.completed = True\n",
        "\n",
        "    def mark_pending(self):\n",
        "        self.completed = False\n",
        "\n",
        "    def __str__(self):\n",
        "        status = \"Completed\" if self.completed else \"Pending\"\n",
        "        return f\"{self.description} - {status}, Due: {self.due_date}\" if self.due_date else f\"{self.description} - {status}\"\n",
        "\n",
        "class TaskBuilder:\n",
        "    def __init__(self, description):\n",
        "        self.task = Task(description)\n",
        "\n",
        "    def set_due_date(self, due_date):\n",
        "        self.task.due_date = due_date\n",
        "        return self\n",
        "\n",
        "    def build(self):\n",
        "        return self.task\n",
        "\n",
        "class TaskManager:\n",
        "    def __init__(self):\n",
        "        self.tasks = []\n",
        "        self.undo_stack = []\n",
        "        self.redo_stack = []\n",
        "\n",
        "    def add_task(self, task):\n",
        "        self.tasks.append(task)\n",
        "        self.undo_stack.append(self.tasks.copy())\n",
        "        logging.info(f\"Task '{task.description}' added.\")\n",
        "\n",
        "    def mark_completed(self, description):\n",
        "        task = next((t for t in self.tasks if t.description == description), None)\n",
        "        if task:\n",
        "            task.mark_completed()\n",
        "            self.undo_stack.append(self.tasks.copy())\n",
        "            logging.info(f\"Task '{description}' marked as completed.\")\n",
        "        else:\n",
        "            logging.warning(f\"Task '{description}' not found.\")\n",
        "\n",
        "    def delete_task(self, description):\n",
        "        self.tasks = [task for task in self.tasks if task.description != description]\n",
        "        self.undo_stack.append(self.tasks.copy())\n",
        "        logging.info(f\"Task '{description}' deleted.\")\n",
        "\n",
        "    def view_tasks(self, filter_type=None):\n",
        "        tasks_to_display = self.tasks if not filter_type else [task for task in self.tasks if\n",
        "                                                               (filter_type == 'completed' and task.completed) or\n",
        "                                                               (filter_type == 'pending' and not task.completed)]\n",
        "        for task in tasks_to_display:\n",
        "            logging.info(task)\n",
        "\n",
        "    def undo(self):\n",
        "        if len(self.undo_stack) > 1:\n",
        "            self.redo_stack.append(self.undo_stack.pop())\n",
        "            self.tasks = self.undo_stack[-1].copy()\n",
        "            logging.info(\"Undo completed.\")\n",
        "        else:\n",
        "            logging.warning(\"Undo not possible.\")\n",
        "\n",
        "    def redo(self):\n",
        "        if self.redo_stack:\n",
        "            self.undo_stack.append(self.redo_stack.pop())\n",
        "            self.tasks = self.undo_stack[-1].copy()\n",
        "            logging.info(\"Redo completed.\")\n",
        "        else:\n",
        "            logging.warning(\"Redo not possible.\")\n",
        "\n",
        "def main():\n",
        "    logging.basicConfig(level=logging.INFO, format=\"%(asctime)s - %(levelname)s - %(message)s\")\n",
        "\n",
        "    manager = TaskManager()\n",
        "\n",
        "    while True:\n",
        "        user_input = input(\"Enter command (add, complete, delete, view, undo, redo, exit): \").split()\n",
        "        try:\n",
        "            command = user_input[0]\n",
        "            if command == \"add\":\n",
        "                description = user_input[1]\n",
        "                due_date = user_input[3] if len(user_input) > 3 and user_input[2] == \"Due:\" else None\n",
        "                task = TaskBuilder(description).set_due_date(due_date).build()\n",
        "                manager.add_task(task)\n",
        "            elif command == \"complete\":\n",
        "                description = user_input[1]\n",
        "                manager.mark_completed(description)\n",
        "            elif command == \"delete\":\n",
        "                description = user_input[1]\n",
        "                manager.delete_task(description)\n",
        "            elif command == \"view\":\n",
        "                filter_type = user_input[1] if len(user_input) > 1 else None\n",
        "                manager.view_tasks(filter_type)\n",
        "            elif command == \"undo\":\n",
        "                manager.undo()\n",
        "            elif command == \"redo\":\n",
        "                manager.redo()\n",
        "            elif command == \"exit\":\n",
        "                break\n",
        "            else:\n",
        "                logging.error(\"Invalid command.\")\n",
        "        except Exception as e:\n",
        "            logging.error(f\"An error occurred: {e}\")\n",
        "\n",
        "if __name__ == \"__main__\":\n",
        "    main()\n"
      ]
    }
  ]
}